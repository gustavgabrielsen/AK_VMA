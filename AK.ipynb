{
 "cells": [
  {
   "cell_type": "code",
   "execution_count": 1,
   "id": "7b839145",
   "metadata": {},
   "outputs": [
    {
     "name": "stdout",
     "output_type": "stream",
     "text": [
      "Gjennomsnittlig daglig avkastning (OSEBX, Equinor): [[0.00032235 0.00040407]]\n",
      "Gjennomsnittlig årlig avkastning (OSEBX, Equinor): [[0.08123316 0.10182591]]\n"
     ]
    }
   ],
   "source": [
    "#| echo: false\n",
    "import pandas as pd\n",
    "import numpy as np\n",
    "from IPython.display import display, Markdown, Math\n",
    "\n",
    "# a)\n",
    "\n",
    "# Legger inn data\n",
    "df = pd.read_excel(\"Assignment_1_data.xlsx\")\n",
    "\n",
    "OSEBX = df['OSEBX'].to_numpy()      # N x 1 vektor\n",
    "Equinor = df['EQUINOR'].to_numpy()  # N x 1 vektor\n",
    "\n",
    "# Setter sammen til en N x 2 matrise\n",
    "Y = np.column_stack((OSEBX, Equinor))\n",
    "\n",
    "# Definerer vektoren (N x 1)\n",
    "N = Y.shape[0]\n",
    "i = np.ones((N, 1))\n",
    "\n",
    "# Beregner gjennomsnitt med vektorformelen (1/N * i'Y)\n",
    "mean_returns_daily = (1/N) * (i.T @ Y)\n",
    "\n",
    "print(\"Gjennomsnittlig daglig avkastning (OSEBX, Equinor):\", mean_returns_daily)\n",
    "\n",
    "# Multiplisere med antall handelsdager\n",
    "mean_returns_annual = mean_returns_daily * 252\n",
    "\n",
    "print(\"Gjennomsnittlig årlig avkastning (OSEBX, Equinor):\", mean_returns_annual)"
   ]
  },
  {
   "cell_type": "code",
   "execution_count": 2,
   "id": "489da3ac",
   "metadata": {},
   "outputs": [
    {
     "name": "stdout",
     "output_type": "stream",
     "text": [
      "Vektor for gjennomsnitt (OSEBX): [[0.00032235]\n",
      " [0.00032235]\n",
      " [0.00032235]\n",
      " ...\n",
      " [0.00032235]\n",
      " [0.00032235]\n",
      " [0.00032235]]\n",
      "Vektor for gjennomsnitt (Equinor): [[0.00040407]\n",
      " [0.00040407]\n",
      " [0.00040407]\n",
      " ...\n",
      " [0.00040407]\n",
      " [0.00040407]\n",
      " [0.00040407]]\n"
     ]
    }
   ],
   "source": [
    "# b)\n",
    "\n",
    "mean_matrix = i @ mean_returns_daily          # shape: (N, 2)\n",
    "\n",
    "# Trekke ut hver mean-vektor (N×1)\n",
    "meanvec_osebx = mean_matrix[:, [0]]\n",
    "meanvec_eqnr  = mean_matrix[:, [1]]\n",
    "\n",
    "print(\"Vektor for gjennomsnitt (OSEBX):\",meanvec_osebx)\n",
    "print(\"Vektor for gjennomsnitt (Equinor):\",meanvec_eqnr)\n"
   ]
  },
  {
   "cell_type": "markdown",
   "id": "f8efe37d",
   "metadata": {},
   "source": [
    "The expression: $$ y - \\dfrac{1}{N}ii'y $$ represents the vector of deviations from the mean. Here, $y$ is the vector of returns, and $\\tfrac{1}{N}ii'y$ is the mean return replicated into an $N \\times 1$ vector. Subtracting this from $y$ gives a vector of demeaned data, showing how each return differs from the average. This step is essential for calculating variance and covariance.  "
   ]
  },
  {
   "cell_type": "code",
   "execution_count": 3,
   "id": "31eba336",
   "metadata": {},
   "outputs": [
    {
     "name": "stdout",
     "output_type": "stream",
     "text": [
      "[[ 0.00648285  0.01398467]\n",
      " [-0.00222521  0.01378056]\n",
      " [-0.00942367 -0.01458871]\n",
      " ...\n",
      " [-0.00066532 -0.01313964]\n",
      " [-0.02596501 -0.01856638]\n",
      " [ 0.01971299  0.01993748]]\n"
     ]
    },
    {
     "data": {
      "text/markdown": [
       "\n",
       "\n",
       "\n",
       "Subtracting the mean from each entry gives the deviation from mean, useful when calculating variance and covariance.\n",
       "\n",
       "The sum of all deviations is  -1.7208456881689926e-15, which is $\\approx$ 0 as expected. \n",
       "\n"
      ],
      "text/plain": [
       "<IPython.core.display.Markdown object>"
      ]
     },
     "metadata": {},
     "output_type": "display_data"
    }
   ],
   "source": [
    "# c)\n",
    "\n",
    "#| echo: false\n",
    "deviation = Y - mean_matrix\n",
    "print(deviation)\n",
    "total_sum = np.sum(deviation)\n",
    "\n",
    "display(Markdown(\n",
    "f\"\"\"\n",
    "\\n\n",
    "Subtracting the mean from each entry gives the deviation from mean, useful when calculating variance and covariance.\\n\n",
    "The sum of all deviations is  {total_sum}, which is $\\\\approx$ 0 as expected. \\n\n",
    "\"\"\"\n",
    "))"
   ]
  },
  {
   "cell_type": "markdown",
   "id": "5163d320",
   "metadata": {},
   "source": [
    "d)\n",
    "\n",
    "The matrix is defined as  \n",
    "\n",
    "$$\n",
    "M_0 = I - \\dfrac{1}{N}ii'\n",
    "$$\n",
    "\n",
    "The matrix $M_0$ is **symmetric** because  \n",
    "\n",
    "$$\n",
    "M_0' = \\left(I - \\dfrac{1}{N}ii'\\right)' \n",
    "= I' - \\dfrac{1}{N}(ii')' \n",
    "= I - \\dfrac{1}{N}ii' \n",
    "= M_0\n",
    "$$\n",
    "\n",
    "The matrix $M_0$ is **idempotent** because  \n",
    "\n",
    "$$\n",
    "M_0^2 = \\left(I - \\dfrac{1}{N}ii'\\right)\\left(I - \\dfrac{1}{N}ii'\\right) \n",
    "= I - \\dfrac{2}{N}ii' + \\dfrac{1}{N^2}(ii'ii')\n",
    "$$\n",
    "\n",
    "Since  \n",
    "\n",
    "$$\n",
    "ii'i = i(i'i) = iN\n",
    "$$  \n",
    "\n",
    "it follows that  \n",
    "\n",
    "$$\n",
    "ii'ii' = (iN)i' = N(ii')\n",
    "$$\n",
    "\n",
    "Therefore,  \n",
    "\n",
    "$$\n",
    "M_0^2 = I - \\dfrac{2}{N}ii' + \\dfrac{1}{N}(ii') \n",
    "= I - \\dfrac{1}{N}ii' \n",
    "= M_0\n",
    "$$\n",
    "\n",
    "Thus, $M_0$ is both symmetric and idempotent. It acts as a **projection matrix** that removes the mean from a vector $y$, leaving only the deviations from the average.\n"
   ]
  },
  {
   "cell_type": "code",
   "execution_count": 5,
   "id": "b8f26674",
   "metadata": {},
   "outputs": [
    {
     "data": {
      "text/markdown": [
       "\n",
       "Using the equation:\n",
       "\n",
       "$$\n",
       "\\sum_t (y_t - \\bar{y})^2 = y'M_0y\n",
       "$$\n",
       "\n",
       "Numerical check (both series):\n",
       "\n",
       "- OSEBX: LHS = 0.917406, RHS = 0.917406  \n",
       "- Equinor: LHS = 1.553563, RHS = 1.553563  \n"
      ],
      "text/plain": [
       "<IPython.core.display.Markdown object>"
      ]
     },
     "metadata": {},
     "output_type": "display_data"
    }
   ],
   "source": [
    "#| echo: false\n",
    "# e) sjekk for begge serier samtidig\n",
    "\n",
    "N = len(OSEBX)\n",
    "i_vec = np.ones(N)\n",
    "M0 = np.eye(N) - (1/N) * np.outer(i_vec, i_vec)\n",
    "\n",
    "# Bruk begge serier som en N×2 matrise\n",
    "Y = np.column_stack((OSEBX, Equinor))\n",
    "\n",
    "# Left-hand side: sum of squared deviations for hver kolonne\n",
    "lhs = np.sum((Y - mean_matrix)**2, axis=0)\n",
    "\n",
    "# Right-hand side: y'M0y for hver kolonne\n",
    "rhs = np.diag(Y.T @ M0 @ Y)\n",
    "\n",
    "display(Markdown(\n",
    "f\"\"\"\n",
    "Using the equation:\n",
    "\n",
    "$$\n",
    "\\\\sum_t (y_t - \\\\bar{{y}})^2 = y'M_0y\n",
    "$$\n",
    "\n",
    "Numerical check (both series):\n",
    "\n",
    "- OSEBX: LHS = {lhs[0]:.6f}, RHS = {rhs[0]:.6f}  \n",
    "- Equinor: LHS = {lhs[1]:.6f}, RHS = {rhs[1]:.6f}  \n",
    "\"\"\"\n",
    "))"
   ]
  },
  {
   "cell_type": "markdown",
   "id": "83fbd2c6",
   "metadata": {},
   "source": [
    "f)   We define\n",
    "\n",
    "$$\n",
    "M_0 \\;=\\; I - \\frac{1}{N}\\, i i',\n",
    "$$\n",
    "where $i = (1,1,\\dots,1)'\\in\\mathbb{R}^N$.\n",
    "\n",
    "\n",
    "$$\n",
    "(M_0)_{ts} =\n",
    "\\begin{cases}\n",
    "1 - \\dfrac{1}{N}, & \\text{if } t=s,\\\\[6pt]\n",
    "-\\dfrac{1}{N}, & \\text{if } t\\neq s.\n",
    "\\end{cases}\n",
    "$$\n",
    "\n",
    "The matrix $M^0$ has diagonal entries equal to $1-\\dfrac{1}{N}$ and an off-diagonal entries equal to $-\\dfrac{1}{N}$\n",
    "$$\n",
    "M_0 \\;=\\;\n",
    "\\begin{bmatrix}\n",
    "1-\\tfrac{1}{N} & -\\tfrac{1}{N} & \\cdots & -\\tfrac{1}{N}\\\\\n",
    "-\\tfrac{1}{N} & 1-\\tfrac{1}{N} & \\cdots & -\\tfrac{1}{N}\\\\\n",
    "\\vdots & \\vdots & \\ddots & \\vdots\\\\\n",
    "-\\tfrac{1}{N} & -\\tfrac{1}{N} & \\cdots & 1-\\tfrac{1}{N}\n",
    "\\end{bmatrix}.\n",
    "$$\n",
    "hvor $1-\\tfrac{1}{N} \\approx 0.99977$ og $-\\tfrac{1}{N} \\approx -0.00023$\n"
   ]
  },
  {
   "cell_type": "code",
   "execution_count": 19,
   "id": "01d31853",
   "metadata": {},
   "outputs": [
    {
     "name": "stdout",
     "output_type": "stream",
     "text": [
      "1. Standard deviation OSEBX (daily):  0.014433\n",
      "2. Standard deviation OSEBX (annual): 0.229117\n",
      "\n"
     ]
    }
   ],
   "source": [
    "# g)\n",
    "\n",
    "std_daily_OSEBX  = OSEBX.std()\n",
    "std_annual_OSEBX = std_daily_OSEBX * np.sqrt(252)\n",
    "\n",
    "print(f\"1. Standard deviation OSEBX (daily):  {std_daily_OSEBX:.6f}\")\n",
    "print(f\"2. Standard deviation OSEBX (annual): {std_annual_OSEBX:.6f}\\n\")\n"
   ]
  },
  {
   "cell_type": "code",
   "execution_count": 16,
   "id": "df455c9a",
   "metadata": {},
   "outputs": [
    {
     "name": "stdout",
     "output_type": "stream",
     "text": [
      "1. Standard deviation Equinor (daily):  0.018782\n",
      "2. Standard deviation Equinor (annual): 0.298154\n",
      "\n"
     ]
    }
   ],
   "source": [
    "# h)\n",
    "\n",
    "std_daily_Equinor  = Equinor.std()\n",
    "std_annual_Equinor = std_daily_Equinor * np.sqrt(252)\n",
    "\n",
    "print(f\"1. Standard deviation Equinor (daily):  {std_daily_Equinor:.6f}\")\n",
    "print(f\"2. Standard deviation Equinor (annual): {std_annual_Equinor:.6f}\\n\")\n"
   ]
  },
  {
   "cell_type": "code",
   "execution_count": 17,
   "id": "b5150043",
   "metadata": {},
   "outputs": [
    {
     "name": "stdout",
     "output_type": "stream",
     "text": [
      "Covariance between OSEBX and Equinor: 0.000211\n",
      "\n"
     ]
    }
   ],
   "source": [
    "# i)\n",
    "\n",
    "cov_OSEBX_EQNR = np.cov(OSEBX, Equinor)[0, 1]\n",
    "\n",
    "print(f\"Covariance between OSEBX and Equinor: {cov_OSEBX_EQNR:.6f}\\n\")\n"
   ]
  },
  {
   "cell_type": "code",
   "execution_count": 18,
   "id": "5cf81d59",
   "metadata": {},
   "outputs": [
    {
     "name": "stdout",
     "output_type": "stream",
     "text": [
      "Beta for Equinor (relative to OSEBX): 1.012217\n",
      "\n"
     ]
    }
   ],
   "source": [
    "# j)\n",
    " \n",
    "beta_Equinor = cov_OSEBX_EQNR / (std_daily_OSEBX**2)\n",
    "\n",
    "print(f\"Beta for Equinor (relative to OSEBX): {beta_Equinor:.6f}\\n\")\n"
   ]
  }
 ],
 "metadata": {
  "kernelspec": {
   "display_name": "Python 3",
   "language": "python",
   "name": "python3"
  },
  "language_info": {
   "codemirror_mode": {
    "name": "ipython",
    "version": 3
   },
   "file_extension": ".py",
   "mimetype": "text/x-python",
   "name": "python",
   "nbconvert_exporter": "python",
   "pygments_lexer": "ipython3",
   "version": "3.12.0"
  }
 },
 "nbformat": 4,
 "nbformat_minor": 5
}
