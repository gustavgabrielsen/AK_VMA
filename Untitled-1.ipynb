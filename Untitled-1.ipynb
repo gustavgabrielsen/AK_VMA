{
 "cells": [
  {
   "cell_type": "code",
   "execution_count": 201,
   "id": "7b839145",
   "metadata": {},
   "outputs": [],
   "source": [
    "#| echo: false\n",
    "import pandas as pd\n",
    "import numpy as np\n",
    "from IPython.display import display, Markdown, Math\n",
    "\n",
    "\n",
    "# --- Legger inn data ---\n",
    "df = pd.read_excel(\"Assignment_1_data.xlsx\")\n",
    "\n",
    "#print(df.head())\n",
    "\n",
    "OSEBX = df['OSEBX']\n",
    "Equinor = df['EQUINOR']\n",
    "\n",
    "N = len(df)\n",
    "\n",
    "trading_days = 252\n",
    "\n"
   ]
  },
  {
   "cell_type": "code",
   "execution_count": 202,
   "id": "3ecdf9c3",
   "metadata": {},
   "outputs": [
    {
     "data": {
      "text/markdown": [
       "\n",
       "**a)**  \n",
       "1. Mean daily return (OSEBX): **0.000322**  \n",
       "-  Mean daily return (Equinor): **0.000404**  \n",
       "2. Mean annual return (OSEBX): **0.081233**  \n",
       "-  Mean annual return (Equinor): **0.101826**\n"
      ],
      "text/plain": [
       "<IPython.core.display.Markdown object>"
      ]
     },
     "metadata": {},
     "output_type": "display_data"
    }
   ],
   "source": [
    "#| echo: false\n",
    "mu_d_O = float(OSEBX.mean())\n",
    "mu_d_E = float(Equinor.mean())\n",
    "mu_a_O = mu_d_O * trading_days\n",
    "mu_a_E = mu_d_E * trading_days\n",
    "\n",
    "display(Markdown(\n",
    "f\"\"\"\n",
    "**a)**  \n",
    "1. Mean daily return (OSEBX): **{mu_d_O:.6f}**  \n",
    "-  Mean daily return (Equinor): **{mu_d_E:.6f}**  \n",
    "2. Mean annual return (OSEBX): **{mu_a_O:.6f}**  \n",
    "-  Mean annual return (Equinor): **{mu_a_E:.6f}**\n",
    "\"\"\"\n",
    "))\n"
   ]
  },
  {
   "cell_type": "code",
   "execution_count": null,
   "id": "e62ed61b",
   "metadata": {},
   "outputs": [
    {
     "data": {
      "text/markdown": [
       "\n",
       "**b)** \n",
       "\n",
       "Vector for OSEBX: [0.00032235 0.00032235 0.00032235 ... 0.00032235 0.00032235 0.00032235]\n",
       "\n",
       "Vector for Equinor: [0.00040407 0.00040407 0.00040407 ... 0.00040407 0.00040407 0.00040407]\n",
       "\n",
       "\n"
      ],
      "text/plain": [
       "<IPython.core.display.Markdown object>"
      ]
     },
     "metadata": {},
     "output_type": "display_data"
    }
   ],
   "source": [
    "#| echo: false\n",
    "v_O = np.full(N, mu_d_O)\n",
    "v_E = np.full(N, mu_d_E)\n",
    "\n",
    "display(Markdown(\n",
    "f\"\"\"\n",
    "**b)** \\n\n",
    "Vector for OSEBX: {v_O}\\n\n",
    "Vector for Equinor: {v_E}\\n\n",
    "\"\"\"\n",
    "))\n"
   ]
  },
  {
   "cell_type": "code",
   "execution_count": 228,
   "id": "31eba336",
   "metadata": {},
   "outputs": [
    {
     "data": {
      "text/markdown": [
       "\n",
       "**c)** \n",
       "\n",
       "Subtracting the mean from each entry gives the centered vector\n",
       "\n",
       "The sum of all deviations is  -2.609024107869118e-15, which is $\\approx$ 0 as expected. \n",
       "\n"
      ],
      "text/plain": [
       "<IPython.core.display.Markdown object>"
      ]
     },
     "metadata": {},
     "output_type": "display_data"
    }
   ],
   "source": [
    "#| echo: false\n",
    "y = OSEBX.to_numpy()\n",
    "diff_c = y - y.mean()\n",
    "total_sum = np.sum(diff_c)\n",
    "display(Markdown(\n",
    "f\"\"\"\n",
    "**c)** \\n\n",
    "Subtracting the mean from each entry gives the centered vector\\n\n",
    "The sum of all deviations is  {total_sum}, which is $\\\\approx$ 0 as expected. \\n\n",
    "\"\"\"\n",
    "))\n",
    "\n"
   ]
  },
  {
   "cell_type": "code",
   "execution_count": 233,
   "id": "b45b1e5c",
   "metadata": {},
   "outputs": [
    {
     "data": {
      "text/markdown": [
       "\n",
       "**d)** \n",
       "\n",
       "The centering matrix $M^0 = I - (1/N)ii'$ is symmetric (equal to it's transpose) \n",
       "\n",
       "and idempotent (multiplying it by itself gives the same matrix)\n",
       "\n",
       "Check: symmetric = **True**, idempotent = **True**.\n"
      ],
      "text/plain": [
       "<IPython.core.display.Markdown object>"
      ]
     },
     "metadata": {},
     "output_type": "display_data"
    }
   ],
   "source": [
    "#| echo: false\n",
    "\n",
    "# Define M^0\n",
    "N = len(OSEBX)\n",
    "i_vec = np.ones(N)\n",
    "M0 = np.eye(N) - (1/N) * np.outer(i_vec, i_vec)\n",
    "\n",
    "# Checks\n",
    "is_symmetric  = np.allclose(M0, M0.T)\n",
    "is_idempotent = np.allclose(M0 @ M0, M0)\n",
    "\n",
    "display(Markdown(\n",
    "f\"\"\"\n",
    "**d)** \\n\n",
    "The centering matrix $M^0 = I - (1/N)ii'$ is symmetric (equal to it's transpose) \\n\n",
    "and idempotent (multiplying it by itself gives the same matrix)\\n\n",
    "Check: symmetric = **{is_symmetric}**, idempotent = **{is_idempotent}**.\n",
    "\"\"\"\n",
    "))\n"
   ]
  },
  {
   "cell_type": "code",
   "execution_count": 222,
   "id": "e35f4932",
   "metadata": {},
   "outputs": [
    {
     "data": {
      "text/markdown": [
       "\n",
       "**e)** \n",
       "\n",
       "Verified the identity  \n",
       "\n",
       "$\\sum_t (y_t - \\bar{y})^2 = y'M^0y$.  \n",
       "\n",
       "\n",
       "Numerical check:  \n",
       "\n",
       "- $\\sum_t (y_t - \\bar{y})^2 = 0.917406$  \n",
       "\n",
       "- $y'M^0y = 0.917406$  \n",
       "\n",
       "\n"
      ],
      "text/plain": [
       "<IPython.core.display.Markdown object>"
      ]
     },
     "metadata": {},
     "output_type": "display_data"
    }
   ],
   "source": [
    "#| echo: false\n",
    "\n",
    "# Left-hand side: sum of squared deviations\n",
    "sum_sq_dev = float(np.sum((y - y.mean())**2))\n",
    "\n",
    "# Right-hand side: quadratic form y'M0y\n",
    "quad_form = float(y @ M0 @ y)\n",
    "\n",
    "display(Markdown(\n",
    "f\"\"\"\n",
    "**e)** \\n\n",
    "Verified the identity  \\n\n",
    "$\\\\sum_t (y_t - \\\\bar{{y}})^2 = y'M^0y$.  \\n\\n\n",
    "Numerical check:  \\n\n",
    "- $\\\\sum_t (y_t - \\\\bar{{y}})^2 = {sum_sq_dev:.6f}$  \\n\n",
    "- $y'M^0y = {quad_form:.6f}$  \\n\\n\n",
    "\"\"\"\n",
    "))\n"
   ]
  },
  {
   "cell_type": "markdown",
   "id": "83fbd2c6",
   "metadata": {},
   "source": [
    "f)   We define\n",
    "\n",
    "\n",
    "$$\n",
    "M_0 \\;=\\; I - \\frac{1}{N}\\, i i',\n",
    "$$\n",
    "where $i = (1,1,\\dots,1)'\\in\\mathbb{R}^N$.\n",
    "\n",
    "\n",
    "$$\n",
    "(M_0)_{ts} =\n",
    "\\begin{cases}\n",
    "1 - \\dfrac{1}{N}, & \\text{if } t=s,\\\\[6pt]\n",
    "-\\dfrac{1}{N}, & \\text{if } t\\neq s.\n",
    "\\end{cases}\n",
    "$$\n",
    "\n",
    "The matrix $M^0$ has diagonal entries equal to $1-\\dfrac{1}{N}$ and an off-diagonal entries equal to $-\\dfrac{1}{N}$\n",
    "$$\n",
    "M_0 \\;=\\;\n",
    "\\begin{bmatrix}\n",
    "1-\\tfrac{1}{N} & -\\tfrac{1}{N} & \\cdots & -\\tfrac{1}{N}\\\\\n",
    "-\\tfrac{1}{N} & 1-\\tfrac{1}{N} & \\cdots & -\\tfrac{1}{N}\\\\\n",
    "\\vdots & \\vdots & \\ddots & \\vdots\\\\\n",
    "-\\tfrac{1}{N} & -\\tfrac{1}{N} & \\cdots & 1-\\tfrac{1}{N}\n",
    "\\end{bmatrix}.\n",
    "$$"
   ]
  },
  {
   "cell_type": "code",
   "execution_count": 235,
   "id": "01d31853",
   "metadata": {},
   "outputs": [
    {
     "name": "stdout",
     "output_type": "stream",
     "text": [
      "g)\n",
      "1. Standard deviation OSEBX (daily):  0.014435\n",
      "2. Standard deviation OSEBX (annual): 0.229143\n",
      "\n"
     ]
    }
   ],
   "source": [
    "#| echo: false\n",
    "std_daily_OSEBX  = OSEBX.std()\n",
    "std_annual_OSEBX = std_daily_OSEBX * np.sqrt(trading_days)\n",
    "\n",
    "print(\"g)\")\n",
    "print(f\"1. Standard deviation OSEBX (daily):  {std_daily_OSEBX:.6f}\")\n",
    "print(f\"2. Standard deviation OSEBX (annual): {std_annual_OSEBX:.6f}\\n\")\n"
   ]
  },
  {
   "cell_type": "code",
   "execution_count": 234,
   "id": "df455c9a",
   "metadata": {},
   "outputs": [
    {
     "name": "stdout",
     "output_type": "stream",
     "text": [
      "h)\n",
      "1. Standard deviation Equinor (daily):  0.018784\n",
      "2. Standard deviation Equinor (annual): 0.298188\n",
      "\n"
     ]
    }
   ],
   "source": [
    "#| echo: false\n",
    "std_daily_Equinor  = Equinor.std()\n",
    "std_annual_Equinor = std_daily_Equinor * np.sqrt(trading_days)\n",
    "\n",
    "print(\"h)\")\n",
    "print(f\"1. Standard deviation Equinor (daily):  {std_daily_Equinor:.6f}\")\n",
    "print(f\"2. Standard deviation Equinor (annual): {std_annual_Equinor:.6f}\\n\")\n"
   ]
  },
  {
   "cell_type": "code",
   "execution_count": 236,
   "id": "b5150043",
   "metadata": {},
   "outputs": [
    {
     "name": "stdout",
     "output_type": "stream",
     "text": [
      "i)\n",
      "Covariance between OSEBX and Equinor: 0.000211\n",
      "\n"
     ]
    }
   ],
   "source": [
    "#| echo: false\n",
    "cov_OSEBX_EQNR = np.cov(OSEBX, Equinor)[0, 1]\n",
    "\n",
    "print(\"i)\")\n",
    "print(f\"Covariance between OSEBX and Equinor: {cov_OSEBX_EQNR:.6f}\\n\")\n"
   ]
  },
  {
   "cell_type": "code",
   "execution_count": 237,
   "id": "5cf81d59",
   "metadata": {},
   "outputs": [
    {
     "name": "stdout",
     "output_type": "stream",
     "text": [
      "j)\n",
      "Beta for Equinor (relative to OSEBX): 1.011987\n",
      "\n"
     ]
    }
   ],
   "source": [
    "#| echo: false\n",
    "beta_Equinor = cov_OSEBX_EQNR / (std_daily_OSEBX**2)\n",
    "\n",
    "print(\"j)\")\n",
    "print(f\"Beta for Equinor (relative to OSEBX): {beta_Equinor:.6f}\\n\")\n"
   ]
  }
 ],
 "metadata": {
  "kernelspec": {
   "display_name": ".venv",
   "language": "python",
   "name": "python3"
  },
  "language_info": {
   "codemirror_mode": {
    "name": "ipython",
    "version": 3
   },
   "file_extension": ".py",
   "mimetype": "text/x-python",
   "name": "python",
   "nbconvert_exporter": "python",
   "pygments_lexer": "ipython3",
   "version": "3.13.3"
  }
 },
 "nbformat": 4,
 "nbformat_minor": 5
}
