{
 "cells": [
  {
   "cell_type": "code",
   "execution_count": null,
   "id": "e89abdd1",
   "metadata": {},
   "outputs": [
    {
     "name": "stdout",
     "output_type": "stream",
     "text": [
      "        Date     OSEBX   EQUINOR\n",
      "0 2001-06-19  0.006805  0.014389\n",
      "1 2001-06-20 -0.001903  0.014185\n",
      "2 2001-06-21 -0.009101 -0.014185\n",
      "3 2001-06-22  0.004561 -0.007168\n",
      "4 2001-06-25 -0.000362  0.000000\n"
     ]
    }
   ],
   "source": [
    "import pandas as pd\n",
    "\n",
    "# Les inn Excel-filen\n",
    "df = pd.read_excel(\"Assignment_1_data.xlsx\", parse_dates=[\"Date\"])\n",
    "\n",
    "print(df.head())\n"
   ]
  }
 ],
 "metadata": {
  "kernelspec": {
   "display_name": "Python 3",
   "language": "python",
   "name": "python3"
  },
  "language_info": {
   "codemirror_mode": {
    "name": "ipython",
    "version": 3
   },
   "file_extension": ".py",
   "mimetype": "text/x-python",
   "name": "python",
   "nbconvert_exporter": "python",
   "pygments_lexer": "ipython3",
   "version": "3.12.0"
  }
 },
 "nbformat": 4,
 "nbformat_minor": 5
}
