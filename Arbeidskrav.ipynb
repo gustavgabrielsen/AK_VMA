{
 "cells": [
  {
   "cell_type": "code",
   "execution_count": 3,
   "id": "e89abdd1",
   "metadata": {},
   "outputs": [
    {
     "name": "stdout",
     "output_type": "stream",
     "text": [
      "        Date     OSEBX   EQUINOR\n",
      "0 2001-06-19  0.006805  0.014389\n",
      "1 2001-06-20 -0.001903  0.014185\n",
      "2 2001-06-21 -0.009101 -0.014185\n",
      "3 2001-06-22  0.004561 -0.007168\n",
      "4 2001-06-25 -0.000362  0.000000\n"
     ]
    }
   ],
   "source": [
    "import pandas as pd\n",
    "import numpy as np\n",
    "\n",
    "# Les inn Excel-filen\n",
    "data = pd.read_excel(\"Assignment_1_data.xlsx\", parse_dates=[\"Date\"])\n",
    "\n",
    "print(df.head())"
   ]
  },
  {
   "cell_type": "code",
   "execution_count": 6,
   "id": "22e2baae",
   "metadata": {},
   "outputs": [
    {
     "name": "stdout",
     "output_type": "stream",
     "text": [
      "Gjennomsnittlig daglig avkastning (OSEBX, Equinor): [[0.00032235 0.00040407]]\n"
     ]
    }
   ],
   "source": [
    "osebx_returns = data['OSEBX'].to_numpy()      # N x 1 vektor\n",
    "equinor_returns = data['EQUINOR'].to_numpy()  # N x 1 vektor\n",
    "\n",
    "# Sett sammen til en N x 2 matrise\n",
    "Y = np.column_stack((osebx_returns, equinor_returns))\n",
    "\n",
    "# Definer en-vektoren (N x 1)\n",
    "N = Y.shape[0]\n",
    "i = np.ones((N, 1))\n",
    "\n",
    "# Beregn gjennomsnitt med vektorformelen (1/N * i'Y)\n",
    "mean_returns = (1/N) * (i.T @ Y)\n",
    "\n",
    "print(\"Gjennomsnittlig daglig avkastning (OSEBX, Equinor):\", mean_returns)"
   ]
  }
 ],
 "metadata": {
  "kernelspec": {
   "display_name": "Python 3",
   "language": "python",
   "name": "python3"
  },
  "language_info": {
   "codemirror_mode": {
    "name": "ipython",
    "version": 3
   },
   "file_extension": ".py",
   "mimetype": "text/x-python",
   "name": "python",
   "nbconvert_exporter": "python",
   "pygments_lexer": "ipython3",
   "version": "3.12.0"
  }
 },
 "nbformat": 4,
 "nbformat_minor": 5
}
