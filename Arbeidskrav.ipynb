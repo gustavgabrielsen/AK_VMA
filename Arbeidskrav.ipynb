{
 "cells": [
  {
   "cell_type": "code",
   "execution_count": 9,
   "id": "e89abdd1",
   "metadata": {},
   "outputs": [
    {
     "name": "stdout",
     "output_type": "stream",
     "text": [
      "        Date     OSEBX   EQUINOR\n",
      "0 2001-06-19  0.006805  0.014389\n",
      "1 2001-06-20 -0.001903  0.014185\n",
      "2 2001-06-21 -0.009101 -0.014185\n",
      "3 2001-06-22  0.004561 -0.007168\n",
      "4 2001-06-25 -0.000362  0.000000\n"
     ]
    }
   ],
   "source": [
    "import pandas as pd\n",
    "import numpy as np\n",
    "\n",
    "# Les inn Excel-filen\n",
    "data = pd.read_excel(\"Assignment_1_data.xlsx\", parse_dates=[\"Date\"])\n",
    "\n",
    "print(data.head())"
   ]
  },
  {
   "cell_type": "code",
   "execution_count": 7,
   "id": "22e2baae",
   "metadata": {},
   "outputs": [
    {
     "name": "stdout",
     "output_type": "stream",
     "text": [
      "Gjennomsnittlig daglig avkastning (OSEBX, Equinor): [[0.00032235 0.00040407]]\n",
      "Gjennomsnittlig årlig avkastning (OSEBX, Equinor): [[0.08123316 0.10182591]]\n"
     ]
    }
   ],
   "source": [
    "# a)\n",
    "\n",
    "osebx_returns = data['OSEBX'].to_numpy()      # N x 1 vektor\n",
    "equinor_returns = data['EQUINOR'].to_numpy()  # N x 1 vektor\n",
    "\n",
    "# Setter sammen til en N x 2 matrise\n",
    "Y = np.column_stack((osebx_returns, equinor_returns))\n",
    "\n",
    "# Definerer vektoren (N x 1)\n",
    "N = Y.shape[0]\n",
    "i = np.ones((N, 1))\n",
    "\n",
    "# Beregner gjennomsnitt med vektorformelen (1/N * i'Y)\n",
    "mean_returns_daily = (1/N) * (i.T @ Y)\n",
    "\n",
    "print(\"Gjennomsnittlig daglig avkastning (OSEBX, Equinor):\", mean_returns_daily)\n",
    "\n",
    "# Multiplisere med antall handelsdager\n",
    "mean_returns_annual = mean_returns_daily * 252\n",
    "\n",
    "print(\"Gjennomsnittlig årlig avkastning (OSEBX, Equinor):\", mean_returns_annual)\n"
   ]
  },
  {
   "cell_type": "code",
   "execution_count": null,
   "id": "a89b3b5a",
   "metadata": {},
   "outputs": [],
   "source": [
    "# b)\n",
    "\n",
    "mean_matrix = i @ mean_returns_daily          # shape: (N, 2)\n",
    "\n",
    "# Trekke ut hver mean-vektor (N×1)\n",
    "meanvec_osebx = mean_matrix[:, [0]]\n",
    "meanvec_eqnr  = mean_matrix[:, [1]]"
   ]
  },
  {
   "cell_type": "markdown",
   "id": "4ddea519",
   "metadata": {},
   "source": [
    "The expression: $$ y - \\dfrac{1}{N}ii'y $$ represents the vector of deviations from the mean. Here, $y$ is the vector of returns, and $\\tfrac{1}{N}ii'y$ is the mean return replicated into an $N \\times 1$ vector. Subtracting this from $y$ gives a vector of demeaned data, showing how each return differs from the average. This step is essential for calculating variance and covariance.\n",
    "\n",
    "The matrix $M_0$ is symmetric because $(M_0)' = M_0$, and it is idempotent because $M_0^2 = M_0$.  \n",
    "This shows that $M_0$ acts as a projection matrix that removes the mean from $y$, leaving only the deviations from the average.  \n"
   ]
  }
 ],
 "metadata": {
  "kernelspec": {
   "display_name": "Python 3",
   "language": "python",
   "name": "python3"
  },
  "language_info": {
   "codemirror_mode": {
    "name": "ipython",
    "version": 3
   },
   "file_extension": ".py",
   "mimetype": "text/x-python",
   "name": "python",
   "nbconvert_exporter": "python",
   "pygments_lexer": "ipython3",
   "version": "3.12.0"
  }
 },
 "nbformat": 4,
 "nbformat_minor": 5
}
